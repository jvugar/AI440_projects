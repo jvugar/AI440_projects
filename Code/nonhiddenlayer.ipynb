{
 "cells": [
  {
   "cell_type": "markdown",
   "metadata": {},
   "source": [
    "# Lab 5- Programming assignment 1 instructions\n",
    "\n",
    "CS440/640: Lab#5\n",
    "\n",
    "Lab goal: \n",
    "<br>      1) understand the code about 2-layer neural network without any hidden layers                                             <br>      2) learn how to implement a 3-layer neural network with 1 hidden layer               \n",
    "\n"
   ]
  },
  {
   "cell_type": "code",
   "execution_count": 1,
   "metadata": {
    "collapsed": true
   },
   "outputs": [],
   "source": [
    "# Import Python libraries\n",
    "import numpy as np    # numpy is the fundamental package for scientific computing with Python, such linear algebra, array...\n",
    "import matplotlib.pyplot as plt      # matplotlib is a Python 2D plotting library which produces publication quality figures."
   ]
  },
  {
   "cell_type": "markdown",
   "metadata": {},
   "source": [
    "## Logistic Regression Model \n"
   ]
  },
  {
   "cell_type": "code",
   "execution_count": 2,
   "metadata": {
    "collapsed": true
   },
   "outputs": [],
   "source": [
    "class LogisticRegression:\n",
    "    \"\"\"\n",
    "    This lab implements a Logistic Regression Classifier.\n",
    "    \"\"\"\n",
    "    \n",
    "    def __init__(self, input_dim, output_dim):\n",
    "        \"\"\"\n",
    "        Initializes the parameters of the logistic regression classifer to \n",
    "        random values.\n",
    "        \n",
    "        args:\n",
    "            input_dim: Number of dimensions of the input data\n",
    "            output_dim: Number of classes\n",
    "        \"\"\"\n",
    "        \n",
    "        self.theta = np.random.randn(input_dim, output_dim) / np.sqrt(input_dim)       \n",
    "        self.bias = np.zeros((1, output_dim))\n",
    "        \n",
    "    #--------------------------------------------------------------------------\n",
    "    \n",
    "    def compute_cost(self,X, y):\n",
    "        \"\"\"\n",
    "        Computes the total cost on the dataset.\n",
    "        \n",
    "        args:\n",
    "            X: Data array\n",
    "            y: Labels corresponding to input data\n",
    "        \n",
    "        returns:\n",
    "            cost: average cost per data sample\n",
    "        \"\"\"\n",
    "        num_examples = np.shape(X)[0]\n",
    "        z = np.dot(X,self.theta) + self.bias\n",
    "        exp_z = np.exp(z)\n",
    "        softmax_scores = exp_z / np.sum(exp_z, axis=1, keepdims=True)\n",
    "        \n",
    "        one_hot_y = np.zeros((num_examples,np.max(y)+1))\n",
    "        logloss = np.zeros((num_examples,))        \n",
    "        for i in range(np.shape(X)[0]):\n",
    "            one_hot_y[i,y[i]] = 1\n",
    "            logloss[i] = -np.sum(np.log(softmax_scores[i,:]) * one_hot_y[i,:])\n",
    "        data_loss = np.sum(logloss)\n",
    "        return 1./num_examples * data_loss\n",
    "\n",
    "    \n",
    "    #--------------------------------------------------------------------------\n",
    " \n",
    "    def predict(self,X):\n",
    "        \"\"\"\n",
    "        Makes a prediction based on current model parameters.\n",
    "        \n",
    "        args:\n",
    "            X: Data array\n",
    "            \n",
    "        returns:\n",
    "            predictions: array of predicted labels\n",
    "        \"\"\"\n",
    "        z = np.dot(X,self.theta) + self.bias\n",
    "        exp_z = np.exp(z)\n",
    "        softmax_scores = exp_z / np.sum(exp_z, axis=1, keepdims=True)\n",
    "        predictions = np.argmax(softmax_scores, axis = 1)\n",
    "        return predictions\n",
    "        \n",
    "    #--------------------------------------------------------------------------\n",
    "    # TODO: implement logistic regression using gradient descent \n",
    "    #--------------------------------------------------------------------------\n",
    "   \n",
    "    def fit(self,X,y,num_epochs,lr=0.01):\n",
    "        for epoch in range(0, num_epochs):\n",
    "\n",
    "            # Forward propagation\n",
    "            z = np.dot(X,self.theta) + self.bias\n",
    "            exp_z = np.exp(z)\n",
    "            softmax_scores = exp_z / np.sum(exp_z, axis=1, keepdims=True)\n",
    "        \n",
    "            # Backpropagation\n",
    "            beta = np.zeros_like(softmax_scores)\n",
    "            one_hot_y = np.zeros_like(softmax_scores)\n",
    "            for i in range(X.shape[0]):\n",
    "                one_hot_y[i,y[i]] = 1\n",
    "            beta = softmax_scores - one_hot_y\n",
    "    \n",
    "            # Compute gradients of model parameters\n",
    "            dtheta = np.dot(X.T,beta)\n",
    "            dbias = np.sum(beta, axis=0)\n",
    "    \n",
    "            # Gradient descent parameter update\n",
    "            self.theta -= lr * dtheta\n",
    "            self.bias -= lr * dbias\n",
    "            \n",
    "        return 0\n"
   ]
  },
  {
   "cell_type": "code",
   "execution_count": 3,
   "metadata": {
    "collapsed": true
   },
   "outputs": [],
   "source": [
    "def plot_decision_boundary(model, X, y):\n",
    "    \"\"\"\n",
    "    Function to print the decision boundary given by model.\n",
    "    \n",
    "    args:\n",
    "        model: model, whose parameters are used to plot the decision boundary.\n",
    "        X: input data\n",
    "        y: input labels\n",
    "    \"\"\"\n",
    "    \n",
    "    x1_array, x2_array = np.meshgrid(np.arange(-4, 4, 0.01), np.arange(-4, 4, 0.01))\n",
    "    grid_coordinates = np.c_[x1_array.ravel(), x2_array.ravel()]\n",
    "    Z = model.predict(grid_coordinates)\n",
    "    Z = Z.reshape(x1_array.shape)\n",
    "    plt.contourf(x1_array, x2_array, Z, cmap=plt.cm.bwr)\n",
    "    plt.scatter(X[:, 0], X[:, 1], c=y, cmap=plt.cm.bwr)\n",
    "    plt.show()"
   ]
  },
  {
   "cell_type": "markdown",
   "metadata": {},
   "source": [
    "## Initialization"
   ]
  },
  {
   "cell_type": "code",
   "execution_count": 4,
   "metadata": {
    "collapsed": false
   },
   "outputs": [],
   "source": [
    "#1. Load and plot data\n",
    "X = np.genfromtxt('DATA/LinearX.csv', delimiter=',') \n",
    "y = np.genfromtxt('DATA/LinearY.csv', delimiter=',').astype(np.int64)\n",
    "plt.scatter(X[:,0], X[:,1], c=y, cmap=plt.cm.bwr)\n",
    "plt.show()"
   ]
  },
  {
   "cell_type": "code",
   "execution_count": null,
   "metadata": {
    "collapsed": true
   },
   "outputs": [],
   "source": [
    "#2. Initialize model\n",
    "input_dim = np.shape(X)[1]\n",
    "output_dim = np.max(y) + 1\n",
    "logreg = LogisticRegression(input_dim, output_dim)"
   ]
  },
  {
   "cell_type": "markdown",
   "metadata": {},
   "source": [
    "## Train Classification Model"
   ]
  },
  {
   "cell_type": "code",
   "execution_count": null,
   "metadata": {
    "collapsed": false
   },
   "outputs": [],
   "source": [
    "#3. Train the model, plot decision boundary after trainning\n",
    "logreg.fit(X,y,1000,lr=0.001)\n",
    "plot_decision_boundary(logreg, X, y)"
   ]
  },
  {
   "cell_type": "markdown",
   "metadata": {},
   "source": [
    "## Model Evaluation"
   ]
  },
  {
   "cell_type": "code",
   "execution_count": 7,
   "metadata": {
    "collapsed": false
   },
   "outputs": [
    {
     "name": "stdout",
     "output_type": "stream",
     "text": [
      "ACCURACY:  0.93\n",
      "CONFUSION MATRIX: \n",
      " [[ 244.   29.]\n",
      " [   6.  221.]]\n"
     ]
    }
   ],
   "source": [
    "#4. compute accuracy and confusion matrix\n",
    "acc = 0\n",
    "y_pred = logreg.predict(X)\n",
    "con_mat = np.zeros((output_dim, output_dim))\n",
    "for i in range(len(y_pred)):\n",
    "    con_mat[y_pred[i], y[i]] += 1\n",
    "    if y[i] == y_pred[i]:\n",
    "        acc += 1\n",
    "acc = acc/len(y_pred)\n",
    "print ('ACCURACY: ', acc)\n",
    "print ('CONFUSION MATRIX: \\n', con_mat)"
   ]
  },
  {
   "cell_type": "code",
   "execution_count": 8,
   "metadata": {
    "collapsed": false
   },
   "outputs": [
    {
     "name": "stdout",
     "output_type": "stream",
     "text": [
      "0.207171764368\n"
     ]
    }
   ],
   "source": [
    "#5. compute cost\n",
    "cost = logreg.compute_cost(X,y)\n",
    "print (cost)"
   ]
  },
  {
   "cell_type": "code",
   "execution_count": null,
   "metadata": {
    "collapsed": true
   },
   "outputs": [],
   "source": []
  },
  {
   "cell_type": "code",
   "execution_count": null,
   "metadata": {
    "collapsed": true
   },
   "outputs": [],
   "source": []
  }
 ],
 "metadata": {
  "kernelspec": {
   "display_name": "Python 3",
   "language": "python",
   "name": "python3"
  },
  "language_info": {
   "codemirror_mode": {
    "name": "ipython",
    "version": 3
   },
   "file_extension": ".py",
   "mimetype": "text/x-python",
   "name": "python",
   "nbconvert_exporter": "python",
   "pygments_lexer": "ipython3",
   "version": "3.5.3"
  }
 },
 "nbformat": 4,
 "nbformat_minor": 2
}
